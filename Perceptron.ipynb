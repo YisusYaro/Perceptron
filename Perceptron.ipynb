{
 "cells": [
  {
   "cell_type": "markdown",
   "id": "clinical-modern",
   "metadata": {},
   "source": [
    "# Perceptrón (OR)"
   ]
  },
  {
   "cell_type": "markdown",
   "id": "valued-denmark",
   "metadata": {},
   "source": [
    "En el campo de la inteligencia artificial, el perceptrón simple es una red neuronal artificial de una sola capa, inspirada en el comportamiento y funcionamiento del cerebro humano.\n",
    "\n"
   ]
  },
  {
   "cell_type": "code",
   "execution_count": 1,
   "id": "dirty-married",
   "metadata": {},
   "outputs": [],
   "source": [
    "import numpy as np\n",
    "import matplotlib.pyplot as plt"
   ]
  },
  {
   "cell_type": "markdown",
   "id": "seasonal-iceland",
   "metadata": {},
   "source": [
    "Definimos nuestra clase Perceptron la cual contará con los siguientes métodos:\n",
    "\n",
    "funct(): Implementación de la función de activación que en este caso es paso unitario\n",
    "    \n",
    "propagacion(): Encargada de realizar el producto punto de los pesos y entrada para después pasarlo por la función de activación\n",
    "\n",
    "actualizacion(): La cual se encargará de actualizar los pesos, sumar el alfa y después multiplicarlo por el error y la entrada correcpondiente"
   ]
  },
  {
   "cell_type": "code",
   "execution_count": 2,
   "id": "removed-serum",
   "metadata": {},
   "outputs": [],
   "source": [
    "class Perceptron:\n",
    "    def __init__(self, n, alfa):\n",
    "        self.pesos = np.random.randn(n)\n",
    "        print(self.pesos)\n",
    "        self.n = n\n",
    "        self.alfa =  alfa\n",
    "    \n",
    "    def funct(self, x): #unit step\n",
    "        if x>0:\n",
    "            return 1\n",
    "        else:\n",
    "            return 0\n",
    "    \n",
    "    def propagacion(self, entradas):\n",
    "        self.salida = self.funct(self.pesos.dot(entradas))\n",
    "        self.entradas = entradas\n",
    "        \n",
    "    def actualizacion(self, salida):\n",
    "        for i in range(0,self.n):\n",
    "            self.pesos[i] = self.pesos[i]+self.alfa * (salida-self.salida) * self.entradas[i]\n",
    "    "
   ]
  },
  {
   "cell_type": "markdown",
   "id": "higher-transcript",
   "metadata": {},
   "source": [
    "Utilizamos los siguientes datos de entrada que representan la operación OR incluyendo una tercera entrada para la bias\n",
    "\n",
    "<img src=\"https://eduardopayan93.files.wordpress.com/2014/08/tabla_de_verdad_or.jpg\">"
   ]
  },
  {
   "cell_type": "markdown",
   "id": "soviet-chick",
   "metadata": {},
   "source": [
    "Utilizamos la clase Perceptron para definir nuestro objeto, donde se generan los pesos aleatoriamente y escribimos nuestros arreglos para el posterior entrenamiento "
   ]
  },
  {
   "cell_type": "code",
   "execution_count": 3,
   "id": "favorite-dancing",
   "metadata": {},
   "outputs": [
    {
     "name": "stdout",
     "output_type": "stream",
     "text": [
      "[-0.8139815  -1.26578306 -0.73134652]\n"
     ]
    }
   ],
   "source": [
    "perceptronAnd = Perceptron(3,0.01)\n",
    "datosEntrenamiento = np.array([[0,0,1,0],[1,0,1,1],[0,1,1,1],[1,1,1,1]])"
   ]
  },
  {
   "cell_type": "markdown",
   "id": "necessary-native",
   "metadata": {},
   "source": [
    "Probamos el perceptron antes de entrenar (obsevamos errores)"
   ]
  },
  {
   "cell_type": "code",
   "execution_count": 4,
   "id": "necessary-holocaust",
   "metadata": {},
   "outputs": [
    {
     "name": "stdout",
     "output_type": "stream",
     "text": [
      "Entrada: [0,0] Salida: 0\n",
      "Entrada: [1,0] Salida: 0\n",
      "Entrada: [0,1] Salida: 0\n",
      "Entrada: [1,1] Salida: 0\n"
     ]
    }
   ],
   "source": [
    "perceptronAnd.propagacion([0,0,1])\n",
    "print(\"Entrada: [0,0] Salida: \"+ str(perceptronAnd.salida))\n",
    "perceptronAnd.propagacion([1,0,1])\n",
    "print(\"Entrada: [1,0] Salida: \"+ str(perceptronAnd.salida))\n",
    "perceptronAnd.propagacion([0,1,1])\n",
    "print(\"Entrada: [0,1] Salida: \"+ str(perceptronAnd.salida))\n",
    "perceptronAnd.propagacion([1,1,1])\n",
    "print(\"Entrada: [1,1] Salida: \"+ str(perceptronAnd.salida))"
   ]
  },
  {
   "cell_type": "markdown",
   "id": "sacred-heating",
   "metadata": {},
   "source": [
    "Realizamos el entrenamiento con 500 epocas y guardamos en un arreglo el historico de los pesos"
   ]
  },
  {
   "cell_type": "code",
   "execution_count": 5,
   "id": "individual-acrylic",
   "metadata": {},
   "outputs": [],
   "source": [
    "gradPesos = [perceptronAnd.pesos]\n",
    "\n",
    "for epoca in range(0,500):\n",
    "    for i in range(0, 4):\n",
    "        perceptronAnd.propagacion(datosEntrenamiento[i,0:3])\n",
    "        perceptronAnd.actualizacion(datosEntrenamiento[i,3])\n",
    "        gradPesos = np.concatenate((gradPesos,[perceptronAnd.pesos]),axis=0)"
   ]
  },
  {
   "cell_type": "code",
   "execution_count": 6,
   "id": "running-proxy",
   "metadata": {},
   "outputs": [
    {
     "data": {
      "image/png": "[encoded data removed]",
      "text/plain": [
       "<Figure size 432x288 with 1 Axes>"
      ]
     },
     "metadata": {
      "needs_background": "light"
     },
     "output_type": "display_data"
    }
   ],
   "source": [
    "plt.plot(gradPesos[:,0],'b')\n",
    "plt.plot(gradPesos[:,1],'r')\n",
    "\n",
    "plt.show()\n"
   ]
  },
  {
   "cell_type": "markdown",
   "id": "spoken-league",
   "metadata": {},
   "source": [
    "Finalmente después de la convergencia, es posible probar nuestro perceptrón ahora sí obteniendo los resultados correctos"
   ]
  },
  {
   "cell_type": "code",
   "execution_count": 7,
   "id": "chronic-scanning",
   "metadata": {},
   "outputs": [
    {
     "name": "stdout",
     "output_type": "stream",
     "text": [
      "Entrada: [0,0] Salida: 0\n",
      "Entrada: [1,0] Salida: 1\n",
      "Entrada: [0,1] Salida: 1\n",
      "Entrada: [1,1] Salida: 1\n"
     ]
    }
   ],
   "source": [
    "perceptronAnd.propagacion([0,0,1])\n",
    "print(\"Entrada: [0,0] Salida: \"+ str(perceptronAnd.salida))\n",
    "perceptronAnd.propagacion([1,0,1])\n",
    "print(\"Entrada: [1,0] Salida: \"+ str(perceptronAnd.salida))\n",
    "perceptronAnd.propagacion([0,1,1])\n",
    "print(\"Entrada: [0,1] Salida: \"+ str(perceptronAnd.salida))\n",
    "perceptronAnd.propagacion([1,1,1])\n",
    "print(\"Entrada: [1,1] Salida: \"+ str(perceptronAnd.salida))"
   ]
  },
  {
   "cell_type": "code",
   "execution_count": null,
   "id": "micro-running",
   "metadata": {},
   "outputs": [],
   "source": []
  }
 ],
 "metadata": {
  "kernelspec": {
   "display_name": "Python 3",
   "language": "python",
   "name": "python3"
  },
  "language_info": {
   "codemirror_mode": {
    "name": "ipython",
    "version": 3
   },
   "file_extension": ".py",
   "mimetype": "text/x-python",
   "name": "python",
   "nbconvert_exporter": "python",
   "pygments_lexer": "ipython3",
   "version": "3.8.5"
  }
 },
 "nbformat": 4,
 "nbformat_minor": 5
}
